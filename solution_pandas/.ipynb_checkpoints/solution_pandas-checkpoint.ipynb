{
 "cells": [
  {
   "cell_type": "code",
   "execution_count": 2,
   "metadata": {},
   "outputs": [],
   "source": [
    "import numpy as np\n",
    "import pandas as pd"
   ]
  },
  {
   "cell_type": "code",
   "execution_count": 4,
   "metadata": {},
   "outputs": [
    {
     "data": {
      "text/plain": [
       "Series([], dtype: float64)"
      ]
     },
     "execution_count": 4,
     "metadata": {},
     "output_type": "execute_result"
    }
   ],
   "source": [
    "series1 = pd.Series()\n",
    "series1"
   ]
  },
  {
   "cell_type": "code",
   "execution_count": 6,
   "metadata": {},
   "outputs": [
    {
     "data": {
      "text/plain": [
       "array([2, 3, 5, 6])"
      ]
     },
     "execution_count": 6,
     "metadata": {},
     "output_type": "execute_result"
    }
   ],
   "source": [
    "array1 = np.array([2,3,5,6])\n",
    "array1"
   ]
  },
  {
   "cell_type": "code",
   "execution_count": 8,
   "metadata": {},
   "outputs": [
    {
     "data": {
      "text/plain": [
       "0    2\n",
       "1    3\n",
       "2    5\n",
       "3    6\n",
       "dtype: int32"
      ]
     },
     "execution_count": 8,
     "metadata": {},
     "output_type": "execute_result"
    }
   ],
   "source": [
    "series1 = pd.Series(array1)\n",
    "series1"
   ]
  },
  {
   "cell_type": "code",
   "execution_count": 9,
   "metadata": {},
   "outputs": [
    {
     "data": {
      "text/plain": [
       "A    2\n",
       "B    3\n",
       "C    5\n",
       "D    6\n",
       "dtype: int32"
      ]
     },
     "execution_count": 9,
     "metadata": {},
     "output_type": "execute_result"
    }
   ],
   "source": [
    "series2 = pd.Series(array1,index=['A','B','C','D'])\n",
    "series2"
   ]
  },
  {
   "cell_type": "code",
   "execution_count": 10,
   "metadata": {},
   "outputs": [],
   "source": [
    "state_capital = {\n",
    "    \"Karanatka\" : \"Bangalore\",\n",
    "    \"Tamilnadu\" : \"Chennai\",\n",
    "    \"Kerala\" : \"Thiruvanathapuram\",\n",
    "    \"Telangana\" : \"Hyderabad\",\n",
    "    \"Andhrapradesh\" : \"Amaravathi\"\n",
    "    \n",
    "}\n",
    "s = pd.Series(state_capital)"
   ]
  },
  {
   "cell_type": "code",
   "execution_count": 11,
   "metadata": {},
   "outputs": [
    {
     "data": {
      "text/plain": [
       "Karanatka                Bangalore\n",
       "Tamilnadu                  Chennai\n",
       "Kerala           Thiruvanathapuram\n",
       "Telangana                Hyderabad\n",
       "Andhrapradesh           Amaravathi\n",
       "dtype: object"
      ]
     },
     "execution_count": 11,
     "metadata": {},
     "output_type": "execute_result"
    }
   ],
   "source": [
    "s"
   ]
  },
  {
   "cell_type": "code",
   "execution_count": 3,
   "metadata": {},
   "outputs": [
    {
     "data": {
      "text/html": [
       "<div>\n",
       "<style scoped>\n",
       "    .dataframe tbody tr th:only-of-type {\n",
       "        vertical-align: middle;\n",
       "    }\n",
       "\n",
       "    .dataframe tbody tr th {\n",
       "        vertical-align: top;\n",
       "    }\n",
       "\n",
       "    .dataframe thead th {\n",
       "        text-align: right;\n",
       "    }\n",
       "</style>\n",
       "<table border=\"1\" class=\"dataframe\">\n",
       "  <thead>\n",
       "    <tr style=\"text-align: right;\">\n",
       "      <th></th>\n",
       "      <th>team</th>\n",
       "      <th>home</th>\n",
       "      <th>city</th>\n",
       "      <th>coach</th>\n",
       "    </tr>\n",
       "  </thead>\n",
       "  <tbody>\n",
       "    <tr>\n",
       "      <td>0</td>\n",
       "      <td>Mumbai Indians</td>\n",
       "      <td>Wankhede Stadium, Mumbai</td>\n",
       "      <td>Mumbai, Maharashtra</td>\n",
       "      <td>Mahela Jaywardene</td>\n",
       "    </tr>\n",
       "    <tr>\n",
       "      <td>1</td>\n",
       "      <td>Chennai Super Kings</td>\n",
       "      <td>M.A. Chidambaram Stadium, Chennai</td>\n",
       "      <td>Chennai, Tamil Nadu</td>\n",
       "      <td>Stephen Fleming</td>\n",
       "    </tr>\n",
       "    <tr>\n",
       "      <td>2</td>\n",
       "      <td>Delhi Capitals</td>\n",
       "      <td>Feroz Shah Kotla Ground</td>\n",
       "      <td>Delhi, NCR</td>\n",
       "      <td>Ricky Ponting</td>\n",
       "    </tr>\n",
       "    <tr>\n",
       "      <td>3</td>\n",
       "      <td>Kings XI Punjab</td>\n",
       "      <td>IS Bindra Stadium</td>\n",
       "      <td>Mohali, Punjab</td>\n",
       "      <td>Anil Kumble</td>\n",
       "    </tr>\n",
       "    <tr>\n",
       "      <td>4</td>\n",
       "      <td>Kolkata Knight Riders</td>\n",
       "      <td>Eden Gardens</td>\n",
       "      <td>Kolkata, West Bengal</td>\n",
       "      <td>Brendon McCullum</td>\n",
       "    </tr>\n",
       "    <tr>\n",
       "      <td>5</td>\n",
       "      <td>Rajasthan Royals</td>\n",
       "      <td>Sawai Mansingh Stadium</td>\n",
       "      <td>Jaipur, Rajasthan</td>\n",
       "      <td>Andrew McDonald</td>\n",
       "    </tr>\n",
       "    <tr>\n",
       "      <td>6</td>\n",
       "      <td>Royal Challengers Bangalore</td>\n",
       "      <td>M. Chinnaswamy Stadium</td>\n",
       "      <td>Bengaluru, Karnataka</td>\n",
       "      <td>Simon Katich</td>\n",
       "    </tr>\n",
       "    <tr>\n",
       "      <td>7</td>\n",
       "      <td>Sunrisers Hyderabad</td>\n",
       "      <td>Rajiv Gandhi International Cricket Stadium</td>\n",
       "      <td>Hyderabad, Telengana</td>\n",
       "      <td>Trevor Bayliss</td>\n",
       "    </tr>\n",
       "  </tbody>\n",
       "</table>\n",
       "</div>"
      ],
      "text/plain": [
       "                          team                                        home  \\\n",
       "0               Mumbai Indians                    Wankhede Stadium, Mumbai   \n",
       "1          Chennai Super Kings           M.A. Chidambaram Stadium, Chennai   \n",
       "2               Delhi Capitals                     Feroz Shah Kotla Ground   \n",
       "3              Kings XI Punjab                           IS Bindra Stadium   \n",
       "4        Kolkata Knight Riders                                Eden Gardens   \n",
       "5             Rajasthan Royals                      Sawai Mansingh Stadium   \n",
       "6  Royal Challengers Bangalore                      M. Chinnaswamy Stadium   \n",
       "7          Sunrisers Hyderabad  Rajiv Gandhi International Cricket Stadium   \n",
       "\n",
       "                   city              coach  \n",
       "0   Mumbai, Maharashtra  Mahela Jaywardene  \n",
       "1   Chennai, Tamil Nadu    Stephen Fleming  \n",
       "2            Delhi, NCR      Ricky Ponting  \n",
       "3        Mohali, Punjab        Anil Kumble  \n",
       "4  Kolkata, West Bengal   Brendon McCullum  \n",
       "5     Jaipur, Rajasthan    Andrew McDonald  \n",
       "6  Bengaluru, Karnataka       Simon Katich  \n",
       "7  Hyderabad, Telengana     Trevor Bayliss  "
      ]
     },
     "execution_count": 3,
     "metadata": {},
     "output_type": "execute_result"
    }
   ],
   "source": [
    "teams = pd.read_json('teams.json')\n",
    "teams"
   ]
  },
  {
   "cell_type": "code",
   "execution_count": 4,
   "metadata": {},
   "outputs": [
    {
     "data": {
      "text/html": [
       "<div>\n",
       "<style scoped>\n",
       "    .dataframe tbody tr th:only-of-type {\n",
       "        vertical-align: middle;\n",
       "    }\n",
       "\n",
       "    .dataframe tbody tr th {\n",
       "        vertical-align: top;\n",
       "    }\n",
       "\n",
       "    .dataframe thead th {\n",
       "        text-align: right;\n",
       "    }\n",
       "</style>\n",
       "<table border=\"1\" class=\"dataframe\">\n",
       "  <thead>\n",
       "    <tr style=\"text-align: right;\">\n",
       "      <th></th>\n",
       "      <th>Player</th>\n",
       "      <th>Role</th>\n",
       "      <th>Price</th>\n",
       "    </tr>\n",
       "  </thead>\n",
       "  <tbody>\n",
       "    <tr>\n",
       "      <td>0</td>\n",
       "      <td>Ambati Rayadu (R)</td>\n",
       "      <td>Batsman</td>\n",
       "      <td>2.20 crore</td>\n",
       "    </tr>\n",
       "    <tr>\n",
       "      <td>1</td>\n",
       "      <td>Monu Singh (R)</td>\n",
       "      <td>Batsman</td>\n",
       "      <td>20 lakhs</td>\n",
       "    </tr>\n",
       "    <tr>\n",
       "      <td>2</td>\n",
       "      <td>Murali Vijay (R)</td>\n",
       "      <td>Batsman</td>\n",
       "      <td>2 crore</td>\n",
       "    </tr>\n",
       "    <tr>\n",
       "      <td>3</td>\n",
       "      <td>Ruturaj Gaikwad (R)</td>\n",
       "      <td>Batsman</td>\n",
       "      <td>20 lakhs</td>\n",
       "    </tr>\n",
       "    <tr>\n",
       "      <td>4</td>\n",
       "      <td>Suresh Raine (R)</td>\n",
       "      <td>Batsman</td>\n",
       "      <td>11 crore</td>\n",
       "    </tr>\n",
       "    <tr>\n",
       "      <td>...</td>\n",
       "      <td>...</td>\n",
       "      <td>...</td>\n",
       "      <td>...</td>\n",
       "    </tr>\n",
       "    <tr>\n",
       "      <td>20</td>\n",
       "      <td>Sandeep Sharma (R)</td>\n",
       "      <td>Bowler</td>\n",
       "      <td>3 crore</td>\n",
       "    </tr>\n",
       "    <tr>\n",
       "      <td>21</td>\n",
       "      <td>Shahbaz Nadeem (R)</td>\n",
       "      <td>Bowler</td>\n",
       "      <td>3.20 crore</td>\n",
       "    </tr>\n",
       "    <tr>\n",
       "      <td>22</td>\n",
       "      <td>Siddarth Kaul (R)</td>\n",
       "      <td>Bowler</td>\n",
       "      <td>3.80 crore</td>\n",
       "    </tr>\n",
       "    <tr>\n",
       "      <td>23</td>\n",
       "      <td>Syed Khaleel Ahmed (R)</td>\n",
       "      <td>Bowler</td>\n",
       "      <td>3 crore</td>\n",
       "    </tr>\n",
       "    <tr>\n",
       "      <td>24</td>\n",
       "      <td>T Natarajan (R)</td>\n",
       "      <td>Bowler</td>\n",
       "      <td>40 lakhs</td>\n",
       "    </tr>\n",
       "  </tbody>\n",
       "</table>\n",
       "<p>188 rows × 3 columns</p>\n",
       "</div>"
      ],
      "text/plain": [
       "                    Player     Role       Price\n",
       "0        Ambati Rayadu (R)  Batsman  2.20 crore\n",
       "1           Monu Singh (R)  Batsman    20 lakhs\n",
       "2         Murali Vijay (R)  Batsman     2 crore\n",
       "3      Ruturaj Gaikwad (R)  Batsman    20 lakhs\n",
       "4         Suresh Raine (R)  Batsman    11 crore\n",
       "..                     ...      ...         ...\n",
       "20      Sandeep Sharma (R)   Bowler     3 crore\n",
       "21      Shahbaz Nadeem (R)   Bowler  3.20 crore\n",
       "22       Siddarth Kaul (R)   Bowler  3.80 crore\n",
       "23  Syed Khaleel Ahmed (R)   Bowler     3 crore\n",
       "24         T Natarajan (R)   Bowler    40 lakhs\n",
       "\n",
       "[188 rows x 3 columns]"
      ]
     },
     "execution_count": 4,
     "metadata": {},
     "output_type": "execute_result"
    }
   ],
   "source": [
    "filelist = ['csk.json','dc.json','kkr.json','kxip.json','mi.json','rcb.json','rr.json','srh.json']\n",
    "allteams = pd.DataFrame()\n",
    "for file in filelist:\n",
    "    data = pd.read_json(file)\n",
    "    allteams = allteams.append(data)\n",
    "allteams"
   ]
  },
  {
   "cell_type": "code",
   "execution_count": 10,
   "metadata": {},
   "outputs": [],
   "source": [
    "indexed_price = allteams['Price']"
   ]
  },
  {
   "cell_type": "code",
   "execution_count": 12,
   "metadata": {},
   "outputs": [
    {
     "name": "stdout",
     "output_type": "stream",
     "text": [
      "[['2.20', 'crore'], ['20', 'lakhs'], ['2', 'crore'], ['20', 'lakhs'], ['11', 'crore'], ['15', 'crore'], ['20', 'lakhs'], ['40', 'lakhs'], ['6.40', 'crore'], ['1.60', 'crore'], ['5', 'crore'], ['7.80', 'crore'], ['7', 'crore'], ['4', 'crore'], ['5.50', 'crore'], ['80', 'lakhs'], ['2', 'crore'], ['1', 'crore'], ['50', 'lakhs'], ['50', 'lakhs'], ['2.60', 'crore'], ['6.75', 'crore'], ['2', 'crore'], ['20', 'lakhs'], ['7', 'crore'], ['5.25', 'crore'], ['70', 'lakhs'], ['50', 'lakhs'], ['1.20', 'crore'], ['5.20', 'crore'], ['7.75', 'crore'], ['1.50', 'crore'], ['15', 'crore'], ['2.40', 'crore'], ['4.80', 'crore'], ['20', 'lakhs'], ['1.50', 'crore'], ['7.60', 'crore'], ['20', 'lakhs'], ['5', 'crore'], ['20', 'lakhs'], ['1.10', 'crore'], ['4.20', 'crore'], ['50', 'lakhs'], ['20', 'lakhs'], ['4', 'crore'], ['8.50', 'crore'], ['75', 'lakhs'], ['3.20', 'crore'], ['1.60', 'crore'], ['3.40', 'crore'], ['20', 'lakhs'], ['80', 'lakhs'], ['1.80', 'crore'], ['20', 'lakhs'], ['5.25', 'crore'], ['1', 'crore'], ['60', 'lakhs'], ['7.40', 'crore'], ['20', 'lakhs'], ['12.50', 'crore'], ['15.5', 'crore'], ['3', 'crore'], ['4', 'crore'], ['20', 'lakhs'], ['5.80', 'crore'], ['20', 'lakhs'], ['20', 'lakhs'], ['20', 'lakhs'], ['5.60', 'crore'], ['20', 'lakhs'], ['2', 'crore'], ['30', 'lakhs'], ['6.20', 'crore'], ['75', 'lakhs'], ['20', 'lakhs'], ['1', 'crore'], ['4.20', 'crore'], ['25', 'lakhs'], ['55', 'lakhs'], ['11', 'crore'], ['1.40', 'crore'], ['10.75', 'crore'], ['3', 'crore'], ['50', 'lakhs'], ['50', 'lakhs'], ['20', 'lakhs'], ['20', 'lakhs'], ['20', 'lakhs'], ['4.80', 'crore'], ['2', 'crore'], ['8.50', 'crore'], ['20', 'lakhs'], ['15', 'crore'], ['80', 'lakhs'], ['20', 'lakhs'], ['2', 'crore'], ['3.20', 'crore'], ['2', 'crore'], ['50', 'lakhs'], ['20', 'lakhs'], ['6.20', 'crore'], ['2.80', 'crore'], ['11', 'crore'], ['5.40', 'crore'], ['8.80', 'crore'], ['1.90', 'crore'], ['20', 'lakhs'], ['20', 'lakhs'], ['75', 'lakhs'], ['7', 'crore'], ['50', 'lakhs'], ['2', 'crore'], ['1', 'crore'], ['3.20', 'crore'], ['8', 'crore'], ['20', 'lakhs'], ['17', 'crore'], ['11', 'crore'], ['20', 'lakhs'], ['50', 'lakhs'], ['4.40', 'crore'], ['20', 'lakhs'], ['20', 'lakhs'], ['1.70', 'crore'], ['1', 'crore'], ['5', 'crore'], ['1.70', 'crore'], ['50', 'lakhs'], ['20', 'lakhs'], ['10', 'crore'], ['4', 'crore'], ['2', 'crore'], ['2.60', 'crore'], ['3', 'crore'], ['4.20', 'crore'], ['3.20', 'crore'], ['6', 'crore'], ['20', 'lakhs'], ['30', 'lakhs'], ['12.50', 'crore'], ['3', 'crore'], ['75', 'lakhs'], [], ['4.40', 'crore'], ['8', 'crore'], ['80', 'lakhs'], ['12.50', 'crore'], ['20', 'lakhs'], ['20', 'lakhs'], ['2.40', 'crore'], ['1', 'crore'], ['3', 'crore'], ['7.20', 'crore'], ['2', 'crore'], ['3', 'crore'], ['2.40', 'crore'], ['3', 'crore'], ['1.30', 'crore'], ['1', 'crore'], ['50', 'lakhs'], ['20', 'lakhs'], ['20', 'lakhs'], ['3', 'crore'], ['55', 'lakhs'], ['12.50', 'crore'], ['11', 'crore'], ['1.90', 'crore'], ['1.90', 'crore'], ['2.20', 'crore'], ['1', 'crore'], ['1.20', 'crore'], ['3.20', 'crore'], ['2', 'crore'], ['1', 'crore'], ['50', 'lakhs'], ['20', 'lakhs'], ['20', 'lakhs'], ['20', 'lakhs'], ['95', 'lakhs'], ['8.50', 'crore'], ['50', 'lakhs'], ['9', 'crore'], ['3', 'crore'], ['3.20', 'crore'], ['3.80', 'crore'], ['3', 'crore'], ['40', 'lakhs']]\n"
     ]
    }
   ],
   "source": [
    "convert=[]\n",
    "for i in indexed_price:\n",
    "    convert.append([j for j in i.split()])\n",
    "convert\n"
   ]
  },
  {
   "cell_type": "code",
   "execution_count": null,
   "metadata": {},
   "outputs": [],
   "source": []
  },
  {
   "cell_type": "code",
   "execution_count": null,
   "metadata": {},
   "outputs": [],
   "source": []
  }
 ],
 "metadata": {
  "kernelspec": {
   "display_name": "Python 3",
   "language": "python",
   "name": "python3"
  },
  "language_info": {
   "codemirror_mode": {
    "name": "ipython",
    "version": 3
   },
   "file_extension": ".py",
   "mimetype": "text/x-python",
   "name": "python",
   "nbconvert_exporter": "python",
   "pygments_lexer": "ipython3",
   "version": "3.7.4"
  }
 },
 "nbformat": 4,
 "nbformat_minor": 2
}
