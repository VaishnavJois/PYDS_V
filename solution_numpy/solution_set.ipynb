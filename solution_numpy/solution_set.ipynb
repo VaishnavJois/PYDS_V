{
 "cells": [
  {
   "cell_type": "code",
   "execution_count": 2,
   "metadata": {},
   "outputs": [],
   "source": [
    "import numpy as np"
   ]
  },
  {
   "cell_type": "code",
   "execution_count": 209,
   "metadata": {},
   "outputs": [
    {
     "data": {
      "text/plain": [
       "array([0., 0., 0., 0., 0., 0., 0., 0., 0., 0., 0., 0., 0., 0., 0., 0., 0.,\n",
       "       0., 0., 0.])"
      ]
     },
     "execution_count": 209,
     "metadata": {},
     "output_type": "execute_result"
    }
   ],
   "source": [
    "#1. Create an array of 20 Zeros\n",
    "array1 = np.zeros(20)\n",
    "array1"
   ]
  },
  {
   "cell_type": "code",
   "execution_count": 210,
   "metadata": {},
   "outputs": [
    {
     "data": {
      "text/plain": [
       "array([1., 1., 1., 1., 1., 1., 1., 1., 1., 1., 1., 1., 1., 1., 1., 1., 1.,\n",
       "       1., 1., 1.])"
      ]
     },
     "execution_count": 210,
     "metadata": {},
     "output_type": "execute_result"
    }
   ],
   "source": [
    "#2. Create an array of 20 Ones\n",
    "array2 = np.ones(20)\n",
    "array2"
   ]
  },
  {
   "cell_type": "code",
   "execution_count": 211,
   "metadata": {},
   "outputs": [
    {
     "data": {
      "text/plain": [
       "array([5., 5., 5., 5., 5., 5., 5., 5., 5., 5., 5., 5., 5., 5., 5., 5., 5.,\n",
       "       5., 5., 5.])"
      ]
     },
     "execution_count": 211,
     "metadata": {},
     "output_type": "execute_result"
    }
   ],
   "source": [
    "#3. Create an array of 20 Fives\n",
    "array3 = np.ones(20)*5\n",
    "array3"
   ]
  },
  {
   "cell_type": "code",
   "execution_count": 212,
   "metadata": {},
   "outputs": [
    {
     "data": {
      "text/plain": [
       "array([25, 26, 27, 28, 29, 30, 31, 32, 33, 34, 35, 36, 37, 38, 39, 40, 41,\n",
       "       42, 43, 44, 45, 46, 47, 48, 49, 50])"
      ]
     },
     "execution_count": 212,
     "metadata": {},
     "output_type": "execute_result"
    }
   ],
   "source": [
    "#4. Create an array of the Integer from 25 to 50\n",
    "array4 = np.arange(25,51)\n",
    "array4"
   ]
  },
  {
   "cell_type": "code",
   "execution_count": 224,
   "metadata": {},
   "outputs": [
    {
     "name": "stdout",
     "output_type": "stream",
     "text": [
      "[ 0  2  4  6  8 10 12 14 16 18 20 22 24 26 28 30 32 34 36 38 40 42 44 46\n",
      " 48 50 52 54 56 58 60 62 64 66 68 70 72 74 76 78 80 82 84 86 88 90 92 94\n",
      " 96 98]\n",
      "length:  50\n"
     ]
    }
   ],
   "source": [
    "#5. Create an array of the first 50 even numbers\n",
    "array5 = np.arange(0,100,2)\n",
    "print(array5)\n",
    "print('length: ',len(array5))"
   ]
  },
  {
   "cell_type": "code",
   "execution_count": 228,
   "metadata": {},
   "outputs": [
    {
     "name": "stdout",
     "output_type": "stream",
     "text": [
      "[ 1  3  5  7  9 11 13 15 17 19 21 23 25 27 29 31 33 35 37 39 41 43 45 47\n",
      " 49 51 53 55 57 59 61 63 65 67 69 71 73 75 77 79 81 83 85 87 89 91 93 95\n",
      " 97 99]\n",
      "length:  50\n"
     ]
    }
   ],
   "source": [
    "#6. Create an array of the first 50 odd numbers\n",
    "array6 = np.arange(1,100,2)\n",
    "print(array6)\n",
    "print('length: ',len(array6))"
   ]
  },
  {
   "cell_type": "code",
   "execution_count": 4,
   "metadata": {},
   "outputs": [
    {
     "data": {
      "text/plain": [
       "array([[0, 1, 2],\n",
       "       [3, 4, 5],\n",
       "       [6, 7, 8]])"
      ]
     },
     "execution_count": 4,
     "metadata": {},
     "output_type": "execute_result"
    }
   ],
   "source": [
    "#7. Create an array of 3 X 3 matrix with the values ranging from 0 to 8\n",
    "array7 = np.arange(0,9).reshape(3,3)\n",
    "array7"
   ]
  },
  {
   "cell_type": "code",
   "execution_count": 5,
   "metadata": {},
   "outputs": [
    {
     "data": {
      "text/plain": [
       "array([[10, 11, 12],\n",
       "       [13, 14, 15],\n",
       "       [16, 17, 18]])"
      ]
     },
     "execution_count": 5,
     "metadata": {},
     "output_type": "execute_result"
    }
   ],
   "source": [
    "#8. Create an array of 3 X 3 matrix with the values ranging from 10 to 18\n",
    "array8 = np.arange(10,19).reshape(3,3)\n",
    "array8"
   ]
  },
  {
   "cell_type": "code",
   "execution_count": null,
   "metadata": {},
   "outputs": [],
   "source": []
  },
  {
   "cell_type": "code",
   "execution_count": 7,
   "metadata": {},
   "outputs": [
    {
     "data": {
      "text/plain": [
       "array([[1, 0, 0],\n",
       "       [0, 1, 0],\n",
       "       [0, 0, 1]])"
      ]
     },
     "execution_count": 7,
     "metadata": {},
     "output_type": "execute_result"
    }
   ],
   "source": [
    "#9. Create an array of 3 X 3 identity matrix\n",
    "array9 = np.eye(3,dtype=int)\n",
    "array9"
   ]
  },
  {
   "cell_type": "code",
   "execution_count": 8,
   "metadata": {},
   "outputs": [
    {
     "data": {
      "text/plain": [
       "0.36717406998889623"
      ]
     },
     "execution_count": 8,
     "metadata": {},
     "output_type": "execute_result"
    }
   ],
   "source": [
    "#10. Create an random number between 0-1\n",
    "rand = np.random.random()\n",
    "rand"
   ]
  },
  {
   "cell_type": "code",
   "execution_count": 13,
   "metadata": {},
   "outputs": [
    {
     "data": {
      "text/plain": [
       "array([-1.38679438, -1.03785252, -0.9697395 , -0.562851  ,  0.77680882,\n",
       "       -0.12772442, -0.32377123, -0.83908443,  0.10482229, -1.24580948,\n",
       "       -1.34051961,  0.82756234, -1.71004801,  1.0624779 ,  0.37781644,\n",
       "        1.55625733,  0.21223587, -1.52616752, -0.98483851, -0.48652488,\n",
       "        0.24884664, -0.06739269,  0.25238594,  0.95021607,  0.32948953])"
      ]
     },
     "execution_count": 13,
     "metadata": {},
     "output_type": "execute_result"
    }
   ],
   "source": [
    "#11. Generate 25 random numbers sampled from standard normal distribution \n",
    "array11 = np.random.normal(0,1,25)\n",
    "array11"
   ]
  },
  {
   "cell_type": "code",
   "execution_count": 15,
   "metadata": {},
   "outputs": [
    {
     "data": {
      "text/plain": [
       "array([[ 1.51461185, -1.75201946, -0.08376473,  0.83787811,  1.51863787],\n",
       "       [-0.81861166,  1.82648208,  0.12723786,  0.086473  ,  1.91090344],\n",
       "       [-0.70272039,  1.09468164,  1.04154988, -2.38102496,  0.25497975],\n",
       "       [-0.33752134,  1.20599008, -0.6666612 , -1.16613673,  0.73478621],\n",
       "       [-1.25725915,  0.72571553, -1.12485903,  0.95863601, -0.03660515]])"
      ]
     },
     "execution_count": 15,
     "metadata": {},
     "output_type": "execute_result"
    }
   ],
   "source": [
    "#12. Generate 5 * 5 matrix with 25 random numbers sampled from standard normal distribution\n",
    "array11 = np.random.normal(0,1,25).reshape(5,5)\n",
    "array11"
   ]
  },
  {
   "cell_type": "code",
   "execution_count": 17,
   "metadata": {},
   "outputs": [
    {
     "data": {
      "text/plain": [
       "array([0.        , 0.11111111, 0.22222222, 0.33333333, 0.44444444,\n",
       "       0.55555556, 0.66666667, 0.77777778, 0.88888889, 1.        ])"
      ]
     },
     "execution_count": 17,
     "metadata": {},
     "output_type": "execute_result"
    }
   ],
   "source": [
    "#13. Create an array of 10 linearly spaced points between 0 to 1\n",
    "array12 = np.linspace(0,1,10)\n",
    "array12"
   ]
  },
  {
   "cell_type": "code",
   "execution_count": 38,
   "metadata": {},
   "outputs": [
    {
     "data": {
      "text/plain": [
       "array([[0.1, 0.2, 0.3],\n",
       "       [0.4, 0.5, 0.6],\n",
       "       [0.7, 0.8, 0.9]])"
      ]
     },
     "execution_count": 38,
     "metadata": {},
     "output_type": "execute_result"
    }
   ],
   "source": [
    "'''14. Generate following output:\n",
    "        [[0.1 0.2 0.3]\n",
    "         [0.4 0.5 0.6]\n",
    "         [0.7 0.8 0.9]]\n",
    "'''\n",
    "array13 = np.linspace(.1,.9,9).reshape(3,3)\n",
    "array13"
   ]
  },
  {
   "cell_type": "code",
   "execution_count": 115,
   "metadata": {},
   "outputs": [
    {
     "name": "stdout",
     "output_type": "stream",
     "text": [
      "a: \n",
      "[[18 19 20]\n",
      " [23 24 25]]\n",
      "b: \n",
      "[[ 9 10]\n",
      " [14 15]\n",
      " [24 25]]\n",
      "c: \n",
      "[[ 2]\n",
      " [ 7]\n",
      " [12]]\n",
      "d: \n",
      "[[21 22 23 24 25]]\n",
      "e: \n",
      "[1 3 4]\n"
     ]
    }
   ],
   "source": [
    "'''\n",
    "15. Using the following array:\n",
    "       [[ 1,  2,  3,  4,  5],\n",
    "       [ 6,  7,  8,  9, 10],\n",
    "       [11, 12, 13, 14, 15],\n",
    "       [16, 17, 18, 19, 20],\n",
    "       [21, 22, 23, 24, 25]]\n",
    "  a. Print the following output:\n",
    "\t[[18, 19, 20],\n",
    "         [23, 24, 25]]\n",
    "  b. Print the following martrix:\n",
    "        [[ 9, 10],\n",
    "         [14, 15],\n",
    "         [24, 25]]\n",
    "  c. Print the following matrix:\n",
    "\t[[ 2],\n",
    "         [ 7],\n",
    "         [12]] \n",
    "  d. Print the following matrix:\n",
    "\t[[21, 22, 23, 24, 25]]\n",
    "  e. Print the following matrix:\n",
    "\t[[1,3,4],[1,3,4]]\n",
    "\n",
    "'''\n",
    "#a\n",
    "array14 = np.arange(1,26).reshape(5,5)\n",
    "print('a: ')\n",
    "print(array14[3:,2:])\n",
    "#b\n",
    "# print('b: ',array14[[1,2,4],[3]])\n",
    "print('b: ')\n",
    "print(array14[[1,2,4],3:])\n",
    "#c\n",
    "print('c: ')\n",
    "print(array14[:3,[1]])\n",
    "#d\n",
    "print('d: ')\n",
    "print(array14[[4]])\n",
    "#e\n",
    "print('e: ')\n",
    "print(array14[[0],[0,2,3]])"
   ]
  },
  {
   "cell_type": "code",
   "execution_count": 121,
   "metadata": {},
   "outputs": [
    {
     "name": "stdout",
     "output_type": "stream",
     "text": [
      "sum:  325\n",
      "max:  25\n",
      "min:  1\n",
      "column sum:  [55 60 65 70 75]\n",
      "row sum:  [ 15  40  65  90 115]\n",
      "max element loc:  24\n"
     ]
    }
   ],
   "source": [
    "'''\n",
    "16. Using the following array:\n",
    "      [[ 1,  2,  3,  4,  5],\n",
    "       [ 6,  7,  8,  9, 10],\n",
    "       [11, 12, 13, 14, 15],\n",
    "       [16, 17, 18, 19, 20],\n",
    "       [21, 22, 23, 24, 25]]\n",
    "\n",
    "    a. Find the sum of the all the elements\n",
    "    b. Find the max, and min element\n",
    "    c. Print the sum of each column\n",
    "    d. Print the sum of each row\n",
    "    e. Print the max element location\n",
    "  \n",
    "'''\n",
    "array15 = np.arange(1,26).reshape(5,5)\n",
    "#a\n",
    "print('sum: ',np.sum(array15))\n",
    "#b\n",
    "print('max: ',np.max(array15))\n",
    "print('min: ',np.min(array15))\n",
    "#c\n",
    "print('column sum: ',np.sum(array15,axis=0))\n",
    "#d\n",
    "print('row sum: ',np.sum(array15,axis=1))\n",
    "#e\n",
    "print('max element loc: ',np.argmax(array15))"
   ]
  },
  {
   "cell_type": "code",
   "execution_count": 3,
   "metadata": {},
   "outputs": [
    {
     "name": "stdout",
     "output_type": "stream",
     "text": "even numbers:  [ 2  4  6  8 10 12 14 16 18 20 22 24]\nprime numbers:  [2, 3, 5, 7, 11, 13, 17, 19, 23]\ndivisible by 5:  [ 5 10 15 20 25]\n"
    }
   ],
   "source": [
    "'''\n",
    "17. Using the following array:\n",
    "      [[ 1,  2,  3,  4,  5],\n",
    "       [ 6,  7,  8,  9, 10],\n",
    "       [11, 12, 13, 14, 15],\n",
    "       [16, 17, 18, 19, 20],\n",
    "       [21, 22, 23, 24, 25]]\n",
    "    \n",
    "    a. Get all the even numbers\n",
    "    b. Get all the prime numbers\n",
    "    c. Get all the numbers, which are divisible by 5\n",
    "\n",
    "'''\n",
    "array16 = np.arange(1,26).reshape(5,5)\n",
    "# print(array16)\n",
    "#a\n",
    "print('even numbers: ',array16[array16 % 2==0])\n",
    "\n",
    "#b\n",
    "flatAr = array16.flatten()\n",
    "def isPrime(num):\n",
    "    if num < 2:\n",
    "        return False\n",
    "    for i in range(2,num//2+1):\n",
    "        if num%i == 0:\n",
    "            return False\n",
    "    return True\n",
    "\n",
    "primeAr=list(filter(isPrime, flatAr))\n",
    "\n",
    "print('prime numbers: ',primeAr)\n",
    "\n",
    "#c\n",
    "print('divisible by 5: ',array16[array16%5==0])"
   ]
  },
  {
   "cell_type": "code",
   "execution_count": null,
   "metadata": {},
   "outputs": [],
   "source": []
  }
 ],
 "metadata": {
  "kernelspec": {
   "display_name": "Python 3",
   "language": "python",
   "name": "python3"
  },
  "language_info": {
   "codemirror_mode": {
    "name": "ipython",
    "version": 3
   },
   "file_extension": ".py",
   "mimetype": "text/x-python",
   "name": "python",
   "nbconvert_exporter": "python",
   "pygments_lexer": "ipython3",
   "version": "3.7.3-final"
  }
 },
 "nbformat": 4,
 "nbformat_minor": 2
}